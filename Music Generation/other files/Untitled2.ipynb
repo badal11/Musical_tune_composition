{
 "cells": [
  {
   "cell_type": "code",
   "execution_count": null,
   "id": "developing-hartford",
   "metadata": {},
   "outputs": [],
   "source": []
  },
  {
   "cell_type": "code",
   "execution_count": 16,
   "id": "funky-benchmark",
   "metadata": {},
   "outputs": [
    {
     "name": "stdout",
     "output_type": "stream",
     "text": [
      "b is even\n"
     ]
    }
   ],
   "source": [
    "b = 206\n",
    "if (b % 2) == 0:\n",
    "    print(\"b is even\")\n",
    "else:\n",
    "    print(\"b is odd\")"
   ]
  },
  {
   "cell_type": "code",
   "execution_count": 21,
   "id": "basic-woman",
   "metadata": {},
   "outputs": [
    {
     "data": {
      "text/plain": [
       "0"
      ]
     },
     "execution_count": 21,
     "metadata": {},
     "output_type": "execute_result"
    }
   ],
   "source": [
    "b=16\n",
    "b%2"
   ]
  },
  {
   "cell_type": "code",
   "execution_count": 23,
   "id": "periodic-broadway",
   "metadata": {},
   "outputs": [
    {
     "name": "stdout",
     "output_type": "stream",
     "text": [
      "1\n",
      "2\n",
      "3\n",
      "4\n",
      "5\n",
      "6\n"
     ]
    }
   ],
   "source": [
    "i = 1\n",
    "while i <= 6:\n",
    "  print(i)\n",
    "  i = i + 1"
   ]
  },
  {
   "cell_type": "code",
   "execution_count": 24,
   "id": "relative-facial",
   "metadata": {},
   "outputs": [
    {
     "name": "stdout",
     "output_type": "stream",
     "text": [
      "apple\n",
      "banana\n",
      "cherry\n"
     ]
    }
   ],
   "source": [
    "fruits = [\"apple\", \"banana\", \"cherry\"]\n",
    "for x in fruits:\n",
    "  print(x)"
   ]
  },
  {
   "cell_type": "code",
   "execution_count": 31,
   "id": "stable-jewel",
   "metadata": {},
   "outputs": [
    {
     "name": "stdout",
     "output_type": "stream",
     "text": [
      "red\n",
      "apple\n",
      "\n",
      "\n",
      "red\n",
      "apple\n",
      "\n",
      "\n",
      "red\n",
      "banana\n",
      "\n",
      "\n",
      "red\n",
      "banana\n",
      "\n",
      "\n",
      "red\n",
      "cherry\n",
      "\n",
      "\n",
      "red\n",
      "cherry\n",
      "\n",
      "\n",
      "big\n",
      "apple\n",
      "\n",
      "\n",
      "big\n",
      "apple\n",
      "\n",
      "\n",
      "big\n",
      "banana\n",
      "\n",
      "\n",
      "big\n",
      "banana\n",
      "\n",
      "\n",
      "big\n",
      "cherry\n",
      "\n",
      "\n",
      "big\n",
      "cherry\n",
      "\n",
      "\n",
      "tasty\n",
      "apple\n",
      "\n",
      "\n",
      "tasty\n",
      "apple\n",
      "\n",
      "\n",
      "tasty\n",
      "banana\n",
      "\n",
      "\n",
      "tasty\n",
      "banana\n",
      "\n",
      "\n",
      "tasty\n",
      "cherry\n",
      "\n",
      "\n",
      "tasty\n",
      "cherry\n",
      "\n",
      "\n"
     ]
    }
   ],
   "source": [
    "adjective = [\"red\", \"big\", \"tasty\"]\n",
    "fruits = [\"apple\", \"banana\", \"cherry\"]\n",
    "barsha = [\"a\",\"b\"]\n",
    "for x in adjective:\n",
    "  for y in fruits:\n",
    "    for z in barsha:\n",
    "        print(x)\n",
    "        print(y)\n",
    "        print(\"\\n\")"
   ]
  },
  {
   "cell_type": "code",
   "execution_count": 32,
   "id": "comparative-harbor",
   "metadata": {},
   "outputs": [],
   "source": [
    "def my_function():\n",
    "  print(\"Hello from a function\")"
   ]
  },
  {
   "cell_type": "code",
   "execution_count": null,
   "id": "virgin-publicity",
   "metadata": {},
   "outputs": [],
   "source": []
  },
  {
   "cell_type": "code",
   "execution_count": null,
   "id": "chubby-carol",
   "metadata": {},
   "outputs": [],
   "source": []
  },
  {
   "cell_type": "code",
   "execution_count": 33,
   "id": "educated-chamber",
   "metadata": {},
   "outputs": [
    {
     "name": "stdout",
     "output_type": "stream",
     "text": [
      "Hello from a function\n"
     ]
    }
   ],
   "source": [
    "def my_function():\n",
    "  print(\"Hello from a function\")\n",
    "\n",
    "my_function()"
   ]
  },
  {
   "cell_type": "code",
   "execution_count": 61,
   "id": "dental-request",
   "metadata": {},
   "outputs": [
    {
     "name": "stdout",
     "output_type": "stream",
     "text": [
      "5\n"
     ]
    }
   ],
   "source": [
    "def add(a,b):\n",
    "    print(a+b)\n",
    "\n",
    "add(2,3)"
   ]
  },
  {
   "cell_type": "code",
   "execution_count": null,
   "id": "banner-departure",
   "metadata": {},
   "outputs": [],
   "source": [
    "\"a\"\n",
    "a=\"badal\""
   ]
  },
  {
   "cell_type": "code",
   "execution_count": 66,
   "id": "organized-partnership",
   "metadata": {},
   "outputs": [
    {
     "name": "stdout",
     "output_type": "stream",
     "text": [
      "['hanana', 'cherry']\n"
     ]
    }
   ],
   "source": [
    "fruits = [\"apple\", \"banana\", \"cherry\"]\n",
    "fruits[1]=\"hanana\"\n",
    "# print(fruits[1])\n",
    "fruits.pop(0)\n",
    "print(fruits)"
   ]
  }
 ],
 "metadata": {
  "kernelspec": {
   "display_name": "Python 3",
   "language": "python",
   "name": "python3"
  },
  "language_info": {
   "codemirror_mode": {
    "name": "ipython",
    "version": 3
   },
   "file_extension": ".py",
   "mimetype": "text/x-python",
   "name": "python",
   "nbconvert_exporter": "python",
   "pygments_lexer": "ipython3",
   "version": "3.9.2"
  }
 },
 "nbformat": 4,
 "nbformat_minor": 5
}
