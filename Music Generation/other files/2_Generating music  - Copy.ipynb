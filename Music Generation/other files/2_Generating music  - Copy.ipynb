{
 "cells": [
  {
   "cell_type": "code",
   "execution_count": 1,
   "id": "appointed-coverage",
   "metadata": {},
   "outputs": [],
   "source": [
    "import os\n",
    "import json\n",
    "import numpy as np\n",
    "import pandas as pd\n",
    "from keras.models import Sequential\n",
    "from keras.layers import LSTM, Dropout, Dense, Activation, Embedding"
   ]
  },
  {
   "cell_type": "code",
   "execution_count": 2,
   "id": "wound-passenger",
   "metadata": {},
   "outputs": [],
   "source": [
    "data_directory = r\"D:\\Courses\\0\\1 Programming\\Music-Generation-using-deep-learning-main\\data/\"\n",
    "# D:\\Courses\\0\\1 Programming\\Music-Generation-using-deep-learning-main\n",
    "data_file = r\"input.txt\"\n",
    "charIndex_json = \"char_to_idx.json\"\n",
    "model_weights_directory = r'D:\\Courses\\0\\1 Programming\\Music-Generation-using-deep-learning-main\\model/'\n",
    "BATCH_SIZE = 16\n",
    "SEQ_LENGTH = 64"
   ]
  },
  {
   "cell_type": "code",
   "execution_count": 3,
   "id": "optical-granny",
   "metadata": {},
   "outputs": [],
   "source": [
    "def make_model(unique_chars):\n",
    "    model = Sequential()\n",
    "    \n",
    "    model.add(Embedding(input_dim = unique_chars, output_dim = 512, batch_input_shape = (1, 1))) \n",
    "  \n",
    "    model.add(LSTM(256, return_sequences = True, stateful = True))\n",
    "    model.add(Dropout(0.2))\n",
    "    \n",
    "    model.add(LSTM(256, return_sequences = True, stateful = True))\n",
    "    model.add(Dropout(0.2))\n",
    "    \n",
    "    model.add(LSTM(256, stateful = True)) \n",
    "    #remember, that here we haven't given return_sequences = True because here we will give only one character to generate the\n",
    "    #sequence. In the end, we just have to get one output which is equivalent to getting output at the last time-stamp. So, here\n",
    "    #in last layer there is no need of giving return sequences = True.\n",
    "    model.add(Dropout(0.2))\n",
    "    \n",
    "    model.add((Dense(unique_chars)))\n",
    "    model.add(Activation(\"softmax\"))\n",
    "    \n",
    "    return model"
   ]
  },
  {
   "cell_type": "code",
   "execution_count": 4,
   "id": "chicken-section",
   "metadata": {},
   "outputs": [],
   "source": [
    "def generate_sequence(epoch_num, initial_index, seq_length):\n",
    "    with open(os.path.join(data_directory, charIndex_json)) as f:\n",
    "        char_to_index = json.load(f)\n",
    "    index_to_char = {i:ch for ch, i in char_to_index.items()}\n",
    "    unique_chars = len(index_to_char)\n",
    "    \n",
    "    model = make_model(unique_chars)\n",
    "    model.load_weights(model_weights_directory + \"weights.{}.h5\".format(epoch_num))\n",
    "     \n",
    "    sequence_index = [initial_index]\n",
    "    \n",
    "    probability_matrix = []\n",
    "    for _ in range(seq_length):\n",
    "        batch = np.zeros((1, 1))\n",
    "        batch[0, 0] = sequence_index[-1]\n",
    "        \n",
    "        predicted_probs = model.predict_on_batch(batch).ravel()\n",
    "        \n",
    "        probability_matrix.append(predicted_probs)\n",
    "\n",
    "        sample = np.random.choice(range(unique_chars), size = 1, p = predicted_probs)\n",
    "        #print(sample)\n",
    "        sequence_index.append(sample[0])\n",
    "    \n",
    "    seq = ''.join(index_to_char[c] for c in sequence_index)\n",
    "    \n",
    "    cnt = 0\n",
    "    for i in seq:\n",
    "        cnt += 1\n",
    "        if i == \"\\n\":\n",
    "            break\n",
    "    seq1 = seq[cnt:]\n",
    "    #above code is for ignoring the starting string of a generated sequence. This is because we are passing any arbitrary \n",
    "    #character to the model for generating music. Now, the model start generating sequence from that character itself which we \n",
    "    #have passed, so first few characters before \"\\n\" contains meaningless word. Model start generating the music rhythm from\n",
    "    #next line onwards. The correct sequence it start generating from next line onwards which we are considering.\n",
    "    \n",
    "    cnt = 0\n",
    "    for i in seq1:\n",
    "        cnt += 1\n",
    "        if i == \"\\n\" and seq1[cnt] == \"\\n\":\n",
    "            break\n",
    "    seq2 = seq1[:cnt]\n",
    "    #Now our data contains three newline characters after every tune. So, the model has leart that too. So, above code is used for\n",
    "    #ignoring all the characters that model has generated after three new line characters. So, here we are considering only one\n",
    "    #tune of music at a time and finally we are returning it..\n",
    "    \n",
    "    return seq2,probability_matrix, seq"
   ]
  },
  {
   "cell_type": "code",
   "execution_count": 5,
   "id": "saving-karma",
   "metadata": {},
   "outputs": [
    {
     "name": "stdin",
     "output_type": "stream",
     "text": [
      "1. Enter the epoch number of the model you want to load. Small number will generate more errors in music:  102\n",
      "\n",
      "2. Enter any number between 0 to 86 which will be given as initial charcter to model for generating sequence:  80\n",
      "\n",
      "3. Enter the length of music sequence you want to generate. Typical number is between 300-600. Too small number will generate hardly generate any sequence:  500\n"
     ]
    },
    {
     "name": "stdout",
     "output_type": "stream",
     "text": [
      "\n",
      "MUSIC SEQUENCE GENERATED: \n",
      "\n",
      "voow~k~ule)st=Roalley's Wife\n",
      "% Nottingham Music Database\n",
      "S:Kevin Briggs, via EF\n",
      "M:6/8\n",
      "K:D\n",
      "P:A\n",
      "A|\"D\"ded dAF|\"Em\"Ade \"A7\"A2G|\"D\"FGA Adf|\"Em\"f3 \"A7\"e2G|\n",
      "\"D\"FGA A2d|\"G\"BGB \"A\"A2E|\"A7\"ABc \"G\"dcB|\"D\"AFA AFD|\n",
      "\"D\"Add dcd|\"D\"ABA \"A7\"AGF|\"D\"FDD D2D|\"A7\"E3 E2A|\n",
      "\"D\"FGA d2e|\"D\"dcd \"A\"e2A|\"Bm\"dcB \"D\"A2f|\"Em\"gfg \"A7\"e2A|\n",
      "\"D\"dfA def|\"G\"gbg \"A7\"efg|\"D\"aba fdf|\"D\"aba ffd|\"A7\"cAA Aag|\n",
      "\"D\"fdd def|\"G\"gba \"A7\"gfe|\"D\"afd \"G\"g2B|\"D\"Add d2:|\n",
      "P:B\n",
      "A/2G/2|\"D\"FAF FAF|\"G\"GBd GBd|\"D\"AFA \"A7\"ABc|\"D\"dAF D2:|\n",
      "\n",
      "\n",
      "X: 116\n",
      "T:Hamter La\n",
      "\n",
      "\n",
      "\n",
      "Final Output\n",
      "% Nottingham Music Database\n",
      "S:Kevin Briggs, via EF\n",
      "M:6/8\n",
      "K:D\n",
      "P:A\n",
      "A|\"D\"ded dAF|\"Em\"Ade \"A7\"A2G|\"D\"FGA Adf|\"Em\"f3 \"A7\"e2G|\n",
      "\"D\"FGA A2d|\"G\"BGB \"A\"A2E|\"A7\"ABc \"G\"dcB|\"D\"AFA AFD|\n",
      "\"D\"Add dcd|\"D\"ABA \"A7\"AGF|\"D\"FDD D2D|\"A7\"E3 E2A|\n",
      "\"D\"FGA d2e|\"D\"dcd \"A\"e2A|\"Bm\"dcB \"D\"A2f|\"Em\"gfg \"A7\"e2A|\n",
      "\"D\"dfA def|\"G\"gbg \"A7\"efg|\"D\"aba fdf|\"D\"aba ffd|\"A7\"cAA Aag|\n",
      "\"D\"fdd def|\"G\"gba \"A7\"gfe|\"D\"afd \"G\"g2B|\"D\"Add d2:|\n",
      "P:B\n",
      "A/2G/2|\"D\"FAF FAF|\"G\"GBd GBd|\"D\"AFA \"A7\"ABc|\"D\"dAF D2:|\n",
      "\n"
     ]
    }
   ],
   "source": [
    "ep = int(input(\"1. Enter the epoch number of the model you want to load. Small number will generate more errors in music: \"))\n",
    "ar = int(input(\"\\n2. Enter any number between 0 to 86 which will be given as initial charcter to model for generating sequence: \"))\n",
    "ln = int(input(\"\\n3. Enter the length of music sequence you want to generate. Typical number is between 300-600. Too small number will generate hardly generate any sequence: \"))\n",
    "\n",
    "music,probability_matrix,originalSequence = generate_sequence(ep, ar, ln)\n",
    "\n",
    "print(\"\\nMUSIC SEQUENCE GENERATED: \\n\")\n",
    "\n",
    "print(originalSequence)\n",
    "print('\\n\\n\\nFinal Output')\n",
    "print(music)"
   ]
  },
  {
   "cell_type": "code",
   "execution_count": 6,
   "id": "brazilian-hands",
   "metadata": {},
   "outputs": [
    {
     "data": {
      "text/plain": [
       "198"
      ]
     },
     "execution_count": 6,
     "metadata": {},
     "output_type": "execute_result"
    }
   ],
   "source": [
    "len(music)"
   ]
  },
  {
   "cell_type": "markdown",
   "id": "incorrect-delight",
   "metadata": {},
   "source": [
    "# **Music Player 🎵** "
   ]
  },
  {
   "cell_type": "code",
   "execution_count": null,
   "id": "objective-jamaica",
   "metadata": {},
   "outputs": [],
   "source": []
  },
  {
   "cell_type": "code",
   "execution_count": 9,
   "id": "referenced-forge",
   "metadata": {},
   "outputs": [
    {
     "name": "stdout",
     "output_type": "stream",
     "text": [
      "Parameter Sufficinet\n",
      "L:1/8\n",
      "% Nottingham Music Database\n",
      "S:Kevin Briggs, via EF\n",
      "M:6/8\n",
      "K:D\n",
      "P:A\n",
      "A|\"D\"ded dAF|\"Em\"Ade \"A7\"A2G|\"D\"FGA Adf|\"Em\"f3 \"A7\"e2G|\n",
      "\"D\"FGA A2d|\"G\"BGB \"A\"A2E|\"A7\"ABc \"G\"dcB|\"D\"AFA AFD|\n",
      "\"D\"Add dcd|\"D\"ABA \"A7\"AGF|\"D\"FDD D2D|\"A7\"E3 E2A|\n",
      "\"D\"FGA d2e|\"D\"dcd \"A\"e2A|\"Bm\"dcB \"D\"A2f|\"Em\"gfg \"A7\"e2A|\n",
      "\"D\"dfA def|\"G\"gbg \"A7\"efg|\"D\"aba fdf|\"D\"aba ffd|\"A7\"cAA Aag|\n",
      "\"D\"fdd def|\"G\"gba \"A7\"gfe|\"D\"afd \"G\"g2B|\"D\"Add d2:|\n",
      "P:B\n",
      "A/2G/2|\"D\"FAF FAF|\"G\"GBd GBd|\"D\"AFA \"A7\"ABc|\"D\"dAF D2:|\n",
      "\n",
      "Musical Player here\n",
      "\n"
     ]
    }
   ],
   "source": [
    "m = music.split('L:')\n",
    "#default value of node length, L must be given\n",
    "if (len(m) == 1):\n",
    "    m.insert(0,'L:1/8')\n",
    "    #print(m)\n",
    "    #print(''.join(m))\n",
    "    music = '\\n'.join(m)\n",
    "    f = open('music.abc', 'w')\n",
    "    f.write(music)\n",
    "    f.close()\n",
    "    print(music)\n",
    "else:\n",
    "  print(\"Parameter Sufficinet\\n\" + music)\n",
    "\n",
    "\n",
    "\n",
    "print('Musical Player here\\n')\n"
   ]
  },
  {
   "cell_type": "code",
   "execution_count": 8,
   "id": "electoral-village",
   "metadata": {},
   "outputs": [
    {
     "data": {
      "text/html": [
       "\n",
       "                <div id='midiPlayerDiv18933'></div>\n",
       "                <link rel=\"stylesheet\" href=\"//cuthbertLab.github.io/music21j/css/m21.css\"\n",
       "                    type=\"text/css\" />\n",
       "                \n",
       "                <script>\n",
       "                require.config({\n",
       "                    paths: {'music21': '//cuthbertLab.github.io/music21j/src/music21'}\n",
       "                });\n",
       "                require(['music21'], function() {\n",
       "                               mp = new music21.miditools.MidiPlayer();\n",
       "                               mp.addPlayer('#midiPlayerDiv18933');\n",
       "                               mp.base64Load('data:audio/midi;base64,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');\n",
       "                        });\n",
       "                </script>"
      ],
      "text/plain": [
       "<IPython.core.display.HTML object>"
      ]
     },
     "metadata": {},
     "output_type": "display_data"
    }
   ],
   "source": [
    "from music21 import converter\n",
    "s = converter.parse('music.abc')\n",
    "s.show('midi')  # or s.write('midi', fp='output.mid')"
   ]
  },
  {
   "cell_type": "code",
   "execution_count": 11,
   "id": "prepared-roads",
   "metadata": {},
   "outputs": [
    {
     "name": "stdout",
     "output_type": "stream",
     "text": [
      "Requirement already satisfied: music21 in c:\\users\\pramod\\appdata\\local\\programs\\python\\python39\\lib\\site-packages (7.3.3)\n",
      "Requirement already satisfied: jsonpickle in c:\\users\\pramod\\appdata\\local\\programs\\python\\python39\\lib\\site-packages (from music21) (2.1.0)\n",
      "Requirement already satisfied: more-itertools in c:\\users\\pramod\\appdata\\local\\programs\\python\\python39\\lib\\site-packages (from music21) (8.12.0)\n",
      "Requirement already satisfied: numpy in c:\\users\\pramod\\appdata\\local\\programs\\python\\python39\\lib\\site-packages (from music21) (1.19.3)\n",
      "Requirement already satisfied: webcolors>=1.5 in c:\\users\\pramod\\appdata\\local\\programs\\python\\python39\\lib\\site-packages (from music21) (1.11.1)\n",
      "Requirement already satisfied: matplotlib in c:\\users\\pramod\\appdata\\local\\programs\\python\\python39\\lib\\site-packages (from music21) (3.4.1)\n",
      "Requirement already satisfied: joblib in c:\\users\\pramod\\appdata\\local\\programs\\python\\python39\\lib\\site-packages (from music21) (1.0.1)\n",
      "Requirement already satisfied: chardet in c:\\users\\pramod\\appdata\\local\\programs\\python\\python39\\lib\\site-packages (from music21) (4.0.0)\n",
      "Requirement already satisfied: cycler>=0.10 in c:\\users\\pramod\\appdata\\local\\programs\\python\\python39\\lib\\site-packages (from matplotlib->music21) (0.10.0)\n",
      "Requirement already satisfied: kiwisolver>=1.0.1 in c:\\users\\pramod\\appdata\\local\\programs\\python\\python39\\lib\\site-packages (from matplotlib->music21) (1.3.1)\n",
      "Requirement already satisfied: pyparsing>=2.2.1 in c:\\users\\pramod\\appdata\\local\\programs\\python\\python39\\lib\\site-packages (from matplotlib->music21) (2.4.7)\n",
      "Requirement already satisfied: python-dateutil>=2.7 in c:\\users\\pramod\\appdata\\local\\programs\\python\\python39\\lib\\site-packages (from matplotlib->music21) (2.8.1)\n",
      "Requirement already satisfied: pillow>=6.2.0 in c:\\users\\pramod\\appdata\\local\\programs\\python\\python39\\lib\\site-packages (from matplotlib->music21) (8.2.0)\n",
      "Requirement already satisfied: six in c:\\users\\pramod\\appdata\\local\\programs\\python\\python39\\lib\\site-packages (from cycler>=0.10->matplotlib->music21) (1.15.0)\n"
     ]
    },
    {
     "name": "stderr",
     "output_type": "stream",
     "text": [
      "WARNING: You are using pip version 21.1.2; however, version 22.0.4 is available.\n",
      "You should consider upgrading via the 'c:\\users\\pramod\\appdata\\local\\programs\\python\\python39\\python.exe -m pip install --upgrade pip' command.\n"
     ]
    }
   ],
   "source": [
    "!pip install music21"
   ]
  },
  {
   "cell_type": "markdown",
   "id": "north-cylinder",
   "metadata": {},
   "source": [
    "# **Section: Next Character Probability Chart 📊** \n",
    "\n"
   ]
  },
  {
   "cell_type": "code",
   "execution_count": 9,
   "id": "diverse-maria",
   "metadata": {},
   "outputs": [],
   "source": [
    "import matplotlib.pyplot as plt\n",
    "from matplotlib.legend_handler import HandlerLine2D"
   ]
  },
  {
   "cell_type": "code",
   "execution_count": 10,
   "id": "dedicated-sailing",
   "metadata": {},
   "outputs": [],
   "source": [
    "x_axis_data = []\n",
    "y_axis_data = []\n",
    "for i in range(20):\n",
    "\n",
    "  #print(probability_matrix[i])\n",
    "  probability_array = probability_matrix[i]\n",
    "  \n",
    "  k1 = np.argsort(probability_array)[::-1]\n",
    "  probability_array.sort()\n",
    "\n",
    "  #print(k1)\n",
    "  characterNumeral = list(k1[::9])\n",
    "  topProbability = list(probability_array[::-1][::9])\n",
    "  \n",
    "  characterArray = []\n",
    "  character = ' '.join(str(e) for e in characterNumeral)\n",
    "  characterArray= character.split(' ')\n",
    "  x_axis_data.append(characterArray)\n",
    "  y_axis_data.append(topProbability)\n",
    "\n",
    "\n",
    "  # print(characterArray)\n",
    "  # print(topProbability)\n",
    "  # print('\\n')\n",
    "\n"
   ]
  },
  {
   "cell_type": "code",
   "execution_count": 11,
   "id": "seven-birth",
   "metadata": {},
   "outputs": [],
   "source": [
    "dct = {\"\\n\": 0, \" \": 1, \"!\": 2, \"\\\"\": 3, \"#\": 4, \"%\": 5, \"&\": 6, \"'\": 7, \"(\": 8, \")\": 9, \"+\": 10, \",\": 11, \"-\": 12, \".\": 13, \"/\": 14, \"0\": 15, \"1\": 16, \"2\": 17, \"3\": 18, \"4\": 19, \"5\": 20, \"6\": 21, \"7\": 22, \"8\": 23, \"9\": 24, \":\": 25, \"=\": 26, \">\": 27, \"?\": 28, \"A\": 29, \"B\": 30, \"C\": 31, \"D\": 32, \"E\": 33, \"F\": 34, \"G\": 35, \"H\": 36, \"I\": 37, \"J\": 38, \"K\": 39, \"L\": 40, \"M\": 41, \"N\": 42, \"O\": 43, \"P\": 44, \"Q\": 45, \"R\": 46, \"S\": 47, \"T\": 48, \"U\": 49, \"V\": 50, \"W\": 51, \"X\": 52, \"Y\": 53, \"[\": 54, \"\\\\\": 55, \"]\": 56, \"^\": 57, \"_\": 58, \"a\": 59, \"b\": 60, \"c\": 61, \"d\": 62, \"e\": 63, \"f\": 64, \"g\": 65, \"h\": 66, \"i\": 67, \"j\": 68, \"k\": 69, \"l\": 70, \"m\": 71, \"n\": 72, \"o\": 73, \"p\": 74, \"q\": 75, \"r\": 76, \"s\": 77, \"t\": 78, \"u\": 79, \"v\": 80, \"w\": 81, \"x\": 82, \"y\": 83, \"z\": 84, \"|\": 85, \"~\": 86}\n"
   ]
  },
  {
   "cell_type": "code",
   "execution_count": 12,
   "id": "atomic-chrome",
   "metadata": {},
   "outputs": [],
   "source": [
    "def get_key(val):\n",
    "    for key, value in dct.items():\n",
    "         if val == value:\n",
    "             return key\n",
    " \n",
    "    return \"key doesn't exist\"\n",
    " \n",
    "# get_key(23)\n",
    "counter = 0\n",
    "for j in x_axis_data:\n",
    "  arr = []\n",
    "  count = 0\n",
    "  for i in j:\n",
    "    #print(i, j)\n",
    "\n",
    "    arr.append(get_key(int(i)))\n",
    "    # print(get_key(int(i)))\n",
    "\n",
    "  x_axis_data[counter] = arr\n",
    "  count+=1\n",
    "  counter+=1\n",
    "\n"
   ]
  },
  {
   "cell_type": "code",
   "execution_count": 13,
   "id": "graduate-harvey",
   "metadata": {},
   "outputs": [
    {
     "data": {
      "image/png": "[encoded data removed]",
      "text/plain": [
       "<Figure size 432x288 with 1 Axes>"
      ]
     },
     "metadata": {
      "needs_background": "light"
     },
     "output_type": "display_data"
    },
    {
     "data": {
      "image/png": "[encoded data removed]",
      "text/plain": [
       "<Figure size 432x288 with 1 Axes>"
      ]
     },
     "metadata": {
      "needs_background": "light"
     },
     "output_type": "display_data"
    },
    {
     "data": {
      "image/png": "[encoded data removed]",
      "text/plain": [
       "<Figure size 432x288 with 1 Axes>"
      ]
     },
     "metadata": {
      "needs_background": "light"
     },
     "output_type": "display_data"
    },
    {
     "data": {
      "image/png": "[encoded data removed]",
      "text/plain": [
       "<Figure size 432x288 with 1 Axes>"
      ]
     },
     "metadata": {
      "needs_background": "light"
     },
     "output_type": "display_data"
    },
    {
     "data": {
      "image/png": "[encoded data removed]",
      "text/plain": [
       "<Figure size 432x288 with 1 Axes>"
      ]
     },
     "metadata": {
      "needs_background": "light"
     },
     "output_type": "display_data"
    },
    {
     "data": {
      "image/png": "[encoded data removed]",
      "text/plain": [
       "<Figure size 432x288 with 1 Axes>"
      ]
     },
     "metadata": {
      "needs_background": "light"
     },
     "output_type": "display_data"
    },
    {
     "data": {
      "image/png": "[encoded data removed]",
      "text/plain": [
       "<Figure size 432x288 with 1 Axes>"
      ]
     },
     "metadata": {
      "needs_background": "light"
     },
     "output_type": "display_data"
    },
    {
     "data": {
      "image/png": "[encoded data removed]",
      "text/plain": [
       "<Figure size 432x288 with 1 Axes>"
      ]
     },
     "metadata": {
      "needs_background": "light"
     },
     "output_type": "display_data"
    },
    {
     "data": {
      "image/png": "[encoded data removed]",
      "text/plain": [
       "<Figure size 432x288 with 1 Axes>"
      ]
     },
     "metadata": {
      "needs_background": "light"
     },
     "output_type": "display_data"
    },
    {
     "data": {
      "image/png": "[encoded data removed]",
      "text/plain": [
       "<Figure size 432x288 with 1 Axes>"
      ]
     },
     "metadata": {
      "needs_background": "light"
     },
     "output_type": "display_data"
    },
    {
     "data": {
      "image/png": "[encoded data removed]",
      "text/plain": [
       "<Figure size 432x288 with 1 Axes>"
      ]
     },
     "metadata": {
      "needs_background": "light"
     },
     "output_type": "display_data"
    },
    {
     "data": {
      "image/png": "[encoded data removed]",
      "text/plain": [
       "<Figure size 432x288 with 1 Axes>"
      ]
     },
     "metadata": {
      "needs_background": "light"
     },
     "output_type": "display_data"
    },
    {
     "data": {
      "image/png": "[encoded data removed]",
      "text/plain": [
       "<Figure size 432x288 with 1 Axes>"
      ]
     },
     "metadata": {
      "needs_background": "light"
     },
     "output_type": "display_data"
    },
    {
     "data": {
      "image/png": "[encoded data removed]",
      "text/plain": [
       "<Figure size 432x288 with 1 Axes>"
      ]
     },
     "metadata": {
      "needs_background": "light"
     },
     "output_type": "display_data"
    },
    {
     "data": {
      "image/png": "[encoded data removed]",
      "text/plain": [
       "<Figure size 432x288 with 1 Axes>"
      ]
     },
     "metadata": {
      "needs_background": "light"
     },
     "output_type": "display_data"
    },
    {
     "data": {
      "image/png": "[encoded data removed]",
      "text/plain": [
       "<Figure size 432x288 with 1 Axes>"
      ]
     },
     "metadata": {
      "needs_background": "light"
     },
     "output_type": "display_data"
    },
    {
     "data": {
      "image/png": "[encoded data removed]",
      "text/plain": [
       "<Figure size 432x288 with 1 Axes>"
      ]
     },
     "metadata": {
      "needs_background": "light"
     },
     "output_type": "display_data"
    },
    {
     "data": {
      "image/png": "[encoded data removed]",
      "text/plain": [
       "<Figure size 432x288 with 1 Axes>"
      ]
     },
     "metadata": {
      "needs_background": "light"
     },
     "output_type": "display_data"
    },
    {
     "data": {
      "image/png": "[encoded data removed]",
      "text/plain": [
       "<Figure size 432x288 with 1 Axes>"
      ]
     },
     "metadata": {
      "needs_background": "light"
     },
     "output_type": "display_data"
    },
    {
     "data": {
      "image/png": "[encoded data removed]",
      "text/plain": [
       "<Figure size 432x288 with 1 Axes>"
      ]
     },
     "metadata": {
      "needs_background": "light"
     },
     "output_type": "display_data"
    }
   ],
   "source": [
    "#plt.bar(x_axis_data[2], y_axis_data[2])\n",
    "\n",
    "for i in range(len(x_axis_data)):\n",
    "  plt.bar(x_axis_data[i], y_axis_data[i])\n",
    "  plt.show()"
   ]
  }
 ],
 "metadata": {
  "kernelspec": {
   "display_name": "Python 3",
   "language": "python",
   "name": "python3"
  },
  "language_info": {
   "codemirror_mode": {
    "name": "ipython",
    "version": 3
   },
   "file_extension": ".py",
   "mimetype": "text/x-python",
   "name": "python",
   "nbconvert_exporter": "python",
   "pygments_lexer": "ipython3",
   "version": "3.9.2"
  }
 },
 "nbformat": 4,
 "nbformat_minor": 5
}
