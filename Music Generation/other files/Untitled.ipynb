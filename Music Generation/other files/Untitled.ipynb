{
 "cells": [
  {
   "cell_type": "code",
   "execution_count": 12,
   "id": "linear-latest",
   "metadata": {},
   "outputs": [],
   "source": [
    "import os\n",
    "import json\n",
    "import numpy as np\n",
    "import pandas as pd\n",
    "from keras.models import Sequential\n",
    "from keras.layers import LSTM, Dropout, Dense, Activation, Embedding"
   ]
  },
  {
   "cell_type": "code",
   "execution_count": 61,
   "id": "dated-syndrome",
   "metadata": {},
   "outputs": [
    {
     "name": "stdout",
     "output_type": "stream",
     "text": [
      "[[0.47839219 0.17776147 0.79758183 0.88493546 0.16646949 0.99795809\n",
      "  0.91495392 0.29381124 0.56667666 0.03200929 0.87742416 0.4183641 ]\n",
      " [0.416652   0.28824879 0.87442369 0.06558953 0.53425249 0.73491354\n",
      "  0.85112054 0.0633482  0.79794548 0.25467128 0.11157659 0.97817396]\n",
      " [0.36042139 0.31764001 0.05524164 0.78987019 0.28162053 0.39432902\n",
      "  0.4784339  0.03517764 0.32156493 0.16587462 0.2024823  0.75313099]\n",
      " [0.8344614  0.97479294 0.89726535 0.9687031  0.94315161 0.25284866\n",
      "  0.48990454 0.33870962 0.41629825 0.53747576 0.38295403 0.58089001]\n",
      " [0.80694232 0.60343967 0.05372172 0.84939195 0.06142543 0.79158843\n",
      "  0.44429666 0.94663457 0.47153456 0.65066054 0.64947218 0.01801317]\n",
      " [0.95024838 0.42666904 0.41481192 0.62074665 0.89312897 0.23143024\n",
      "  0.73934405 0.56186926 0.3865468  0.07548652 0.53482266 0.4558715 ]\n",
      " [0.0043266  0.9750888  0.35176436 0.17275985 0.39554458 0.25074902\n",
      "  0.79826954 0.92075916 0.97151917 0.64137646 0.77148631 0.5008201 ]\n",
      " [0.6621237  0.89402716 0.65506875 0.34876596 0.62728006 0.9578798\n",
      "  0.34195919 0.1610568  0.53510064 0.61245348 0.60453929 0.95027418]\n",
      " [0.49777263 0.77944711 0.44099883 0.88051148 0.33248533 0.14142845\n",
      "  0.55340851 0.44385549 0.67523852 0.57106919 0.06557449 0.51473894]\n",
      " [0.17340573 0.19159907 0.16056674 0.84040102 0.84495446 0.0560751\n",
      "  0.0494339  0.87425614 0.56055195 0.75658083 0.64381364 0.73470594]]\n"
     ]
    }
   ],
   "source": [
    "import numpy as np\n",
    "import seaborn as sns\n",
    "import matplotlib.pylab as plt\n",
    "\n",
    "uniform_data = np.random.rand(10, 12)\n",
    "# ax = sns.heatmap(uniform_data, linewidth=0.5)\n",
    "# plt.show()\n",
    "print(uniform_data)"
   ]
  },
  {
   "cell_type": "code",
   "execution_count": 11,
   "id": "raising-reflection",
   "metadata": {},
   "outputs": [],
   "source": [
    "data_directory = r\"D:\\Courses\\0\\1 Programming\\Music-Generation-using-deep-learning-main\\data/\"\n",
    "# D:\\Courses\\0\\1 Programming\\Music-Generation-using-deep-learning-main\n",
    "data_file = r\"input.txt\"\n",
    "charIndex_json = \"char_to_idx.json\"\n",
    "model_weights_directory = r'D:\\Courses\\0\\1 Programming\\Music-Generation-using-deep-learning-main\\model/'\n",
    "BATCH_SIZE = 16\n",
    "SEQ_LENGTH = 64"
   ]
  },
  {
   "cell_type": "code",
   "execution_count": 10,
   "id": "portable-consent",
   "metadata": {},
   "outputs": [],
   "source": [
    "def make_model(unique_chars):\n",
    "    model = Sequential()\n",
    "    \n",
    "    model.add(Embedding(input_dim = unique_chars, output_dim = 512, batch_input_shape = (1, 1))) \n",
    "  \n",
    "    model.add(LSTM(256, return_sequences = True, stateful = True))\n",
    "    model.add(Dropout(0.2))\n",
    "    \n",
    "    model.add(LSTM(256, return_sequences = True, stateful = True))\n",
    "    model.add(Dropout(0.2))\n",
    "    \n",
    "    model.add(LSTM(256, stateful = True)) \n",
    "    #remember, that here we haven't given return_sequences = True because here we will give only one character to generate the\n",
    "    #sequence. In the end, we just have to get one output which is equivalent to getting output at the last time-stamp. So, here\n",
    "    #in last layer there is no need of giving return sequences = True.\n",
    "    model.add(Dropout(0.2))\n",
    "    \n",
    "    model.add((Dense(unique_chars)))\n",
    "    model.add(Activation(\"softmax\"))\n",
    "    \n",
    "    return model"
   ]
  },
  {
   "cell_type": "code",
   "execution_count": null,
   "id": "incomplete-catholic",
   "metadata": {},
   "outputs": [],
   "source": [
    "def generate_sequence(epoch_num, initial_index, seq_length):\n",
    "    with open(os.path.join(data_directory, charIndex_json)) as f:\n",
    "        char_to_index = json.load(f)\n",
    "    index_to_char = {i:ch for ch, i in char_to_index.items()}\n",
    "    unique_chars = len(index_to_char)\n",
    "    \n",
    "    model = make_model(unique_chars)\n",
    "    model.load_weights(model_weights_directory + \"weights.{}.h5\".format(epoch_num))\n",
    "     \n",
    "    sequence_index = [initial_index]\n",
    "    \n",
    "    for _ in range(seq_length):\n",
    "        batch = np.zeros((1, 1))\n",
    "        batch[0, 0] = sequence_index[-1]\n",
    "        \n",
    "        predicted_probs = model.predict_on_batch(batch).ravel()\n",
    "        sample = np.random.choice(range(unique_chars), size = 1, p = predicted_probs)\n",
    "        \n",
    "        sequence_index.append(sample[0])\n",
    "    \n",
    "    seq = ''.join(index_to_char[c] for c in sequence_index)\n",
    "    \n",
    "    cnt = 0\n",
    "    for i in seq:\n",
    "        cnt += 1\n",
    "        if i == \"\\n\":\n",
    "            break\n",
    "    seq1 = seq[cnt:]\n",
    "    #above code is for ignoring the starting string of a generated sequence. This is because we are passing any arbitrary \n",
    "    #character to the model for generating music. Now, the model start generating sequence from that character itself which we \n",
    "    #have passed, so first few characters before \"\\n\" contains meaningless word. Model start generating the music rhythm from\n",
    "    #next line onwards. The correct sequence it start generating from next line onwards which we are considering.\n",
    "    \n",
    "    cnt = 0\n",
    "    for i in seq1:\n",
    "        cnt += 1\n",
    "        if i == \"\\n\" and seq1[cnt] == \"\\n\":\n",
    "            break\n",
    "    seq2 = seq1[:cnt]\n",
    "    #Now our data contains three newline characters after every tune. So, the model has leart that too. So, above code is used for\n",
    "    #ignoring all the characters that model has generated after three new line characters. So, here we are considering only one\n",
    "    #tune of music at a time and finally we are returning it..\n",
    "    \n",
    "    return seq2"
   ]
  },
  {
   "cell_type": "code",
   "execution_count": 59,
   "id": "after-separate",
   "metadata": {},
   "outputs": [
    {
     "name": "stdout",
     "output_type": "stream",
     "text": [
      "initial_index 18\n",
      "equivalent character 3\n",
      "next predicted character [5]\n",
      "(87,)\n",
      "[0.09706284]\n"
     ]
    },
    {
     "data": {
      "text/plain": [
       "array([0.003, 0.023, 0.001, 0.001, 0.   , 0.097, 0.005, 0.   , 0.015,\n",
       "       0.001, 0.   , 0.001, 0.002, 0.001, 0.   , 0.002, 0.001, 0.   ,\n",
       "       0.001, 0.   , 0.001, 0.001, 0.004, 0.001, 0.   , 0.581, 0.   ,\n",
       "       0.   , 0.001, 0.   , 0.011, 0.   , 0.001, 0.003, 0.002, 0.001,\n",
       "       0.003, 0.009, 0.006, 0.002, 0.001, 0.017, 0.003, 0.012, 0.044,\n",
       "       0.   , 0.02 , 0.003, 0.093, 0.003, 0.004, 0.   , 0.002, 0.   ,\n",
       "       0.002, 0.002, 0.   , 0.   , 0.   , 0.   , 0.   , 0.   , 0.   ,\n",
       "       0.   , 0.001, 0.   , 0.   , 0.001, 0.   , 0.   , 0.   , 0.   ,\n",
       "       0.   , 0.002, 0.   , 0.   , 0.   , 0.   , 0.   , 0.   , 0.   ,\n",
       "       0.   , 0.   , 0.   , 0.   , 0.004, 0.002], dtype=float32)"
      ]
     },
     "execution_count": 59,
     "metadata": {},
     "output_type": "execute_result"
    }
   ],
   "source": [
    "epoch_num=102\n",
    "initial_index=18\n",
    "seq_length=500\n",
    "with open(os.path.join(data_directory, charIndex_json)) as f:\n",
    "        char_to_index = json.load(f)\n",
    "index_to_char = {i:ch for ch, i in char_to_index.items()}\n",
    "unique_chars = len(index_to_char)\n",
    "\n",
    "model = make_model(unique_chars)\n",
    "model.load_weights(model_weights_directory + \"weights.{}.h5\".format(epoch_num))\n",
    "\n",
    "sequence_index = [initial_index]\n",
    "\n",
    "# for _ in range(seq_length):\n",
    "batch = np.zeros((1, 1))\n",
    "batch[0, 0] = sequence_index[-1]\n",
    "\n",
    "predicted_probs = model.predict_on_batch(batch).ravel()\n",
    "sample = np.random.choice(range(unique_chars), size = 1, p = predicted_probs)\n",
    "\n",
    "print(\"initial_index\", initial_index)\n",
    "i=initial_index\n",
    "index_to_char = [ch for ch, i in char_to_index.items()]\n",
    "print(\"equivalent character\", index_to_char[i])\n",
    "print(\"next predicted character\", sample)\n",
    "print(predicted_probs.shape)\n",
    "# print(predicted_probs)\n",
    "\n",
    "print(predicted_probs[sample])\n",
    "\n",
    "np.around(predicted_probs,3)\n",
    "\n",
    "#     sequence_index.append(sample[0])\n",
    "\n",
    "#     seq = ''.join(index_to_char[c] for c in sequence_index)\n",
    "# print(sequence_index)\n",
    "    \n",
    "#     cnt = 0\n",
    "#     for i in seq:\n",
    "#         cnt += 1\n",
    "#         if i == \"\\n\":\n",
    "#             break\n",
    "#     seq1 = seq[cnt:]\n",
    "#     #above code is for ignoring the starting string of a generated sequence. This is because we are passing any arbitrary \n",
    "#     #character to the model for generating music. Now, the model start generating sequence from that character itself which we \n",
    "#     #have passed, so first few characters before \"\\n\" contains meaningless word. Model start generating the music rhythm from\n",
    "#     #next line onwards. The correct sequence it start generating from next line onwards which we are considering.\n",
    "    \n",
    "#     cnt = 0\n",
    "#     for i in seq1:\n",
    "#         cnt += 1\n",
    "#         if i == \"\\n\" and seq1[cnt] == \"\\n\":\n",
    "#             break\n",
    "#     seq2 = seq1[:cnt]\n",
    "#     #Now our data contains three newline characters after every tune. So, the model has leart that too. So, above code is used for\n",
    "#     #ignoring all the characters that model has generated after three new line characters. So, here we are considering only one\n",
    "#     #tune of music at a time and finally we are returning it..\n",
    "    \n",
    "#     return seq2"
   ]
  },
  {
   "cell_type": "code",
   "execution_count": null,
   "id": "cooked-surgeon",
   "metadata": {},
   "outputs": [],
   "source": [
    "ep = int(input(\"1. Enter the epoch number of the model you want to load. Small number will generate more errors in music: \"))\n",
    "ar = int(input(\"\\n2. Enter any number between 0 to 86 which will be given as initial charcter to model for generating sequence: \"))\n",
    "ln = int(input(\"\\n3. Enter the length of music sequence you want to generate. Typical number is between 300-600. Too small number will generate hardly generate any sequence: \"))\n",
    "\n",
    "music = generate_sequence(ep, ar, ln)\n",
    "\n",
    "print(\"\\nMUSIC SEQUENCE GENERATED: \\n\")\n",
    "\n",
    "print(music)"
   ]
  },
  {
   "cell_type": "code",
   "execution_count": null,
   "id": "surrounded-vulnerability",
   "metadata": {},
   "outputs": [],
   "source": []
  }
 ],
 "metadata": {
  "kernelspec": {
   "display_name": "Python 3",
   "language": "python",
   "name": "python3"
  },
  "language_info": {
   "codemirror_mode": {
    "name": "ipython",
    "version": 3
   },
   "file_extension": ".py",
   "mimetype": "text/x-python",
   "name": "python",
   "nbconvert_exporter": "python",
   "pygments_lexer": "ipython3",
   "version": "3.9.2"
  }
 },
 "nbformat": 4,
 "nbformat_minor": 5
}
